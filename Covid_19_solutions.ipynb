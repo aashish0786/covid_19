{
 "cells": [
  {
   "cell_type": "markdown",
   "id": "de5c9e59",
   "metadata": {},
   "source": [
    "1. What are the top 10 states in which most people are affected by coronavirus?\n",
    "2. What are the top 20 countries in which most people have died from coronavirus?\n",
    "3. Plot a bar graph of the top 10 countries in which most people have died from coronavirus.\n",
    "4. Plot a bar graph of the top 15 countries in which most people have recovered from coronavirus.\n",
    "5. Change the dtype of the 'ObservationDate' column to datetime.\n",
    "6. Find the average deaths and recoveries by each country for the first 5 months of 2020 and 2021.\n",
    "7. What are the top 10 Province/State with confirmed cases?"
   ]
  },
  {
   "cell_type": "code",
   "execution_count": 1,
   "id": "5e033c47",
   "metadata": {},
   "outputs": [],
   "source": [
    "import pandas as pd\n",
    "import numpy as np\n",
    "import matplotlib.pyplot as plt\n",
    "import seaborn as sns"
   ]
  },
  {
   "cell_type": "code",
   "execution_count": 2,
   "id": "5206ff34",
   "metadata": {},
   "outputs": [],
   "source": [
    "df=pd.read_csv('covid_19_data.csv')"
   ]
  },
  {
   "cell_type": "code",
   "execution_count": 3,
   "id": "3b75beb3",
   "metadata": {},
   "outputs": [
    {
     "data": {
      "text/html": [
       "<div>\n",
       "<style scoped>\n",
       "    .dataframe tbody tr th:only-of-type {\n",
       "        vertical-align: middle;\n",
       "    }\n",
       "\n",
       "    .dataframe tbody tr th {\n",
       "        vertical-align: top;\n",
       "    }\n",
       "\n",
       "    .dataframe thead th {\n",
       "        text-align: right;\n",
       "    }\n",
       "</style>\n",
       "<table border=\"1\" class=\"dataframe\">\n",
       "  <thead>\n",
       "    <tr style=\"text-align: right;\">\n",
       "      <th></th>\n",
       "      <th>SNo</th>\n",
       "      <th>ObservationDate</th>\n",
       "      <th>Province/State</th>\n",
       "      <th>Country/Region</th>\n",
       "      <th>Last Update</th>\n",
       "      <th>Confirmed</th>\n",
       "      <th>Deaths</th>\n",
       "      <th>Recovered</th>\n",
       "    </tr>\n",
       "  </thead>\n",
       "  <tbody>\n",
       "    <tr>\n",
       "      <th>0</th>\n",
       "      <td>1</td>\n",
       "      <td>01/22/2020</td>\n",
       "      <td>Anhui</td>\n",
       "      <td>Mainland China</td>\n",
       "      <td>1/22/2020 17:00</td>\n",
       "      <td>1.0</td>\n",
       "      <td>0.0</td>\n",
       "      <td>0.0</td>\n",
       "    </tr>\n",
       "    <tr>\n",
       "      <th>1</th>\n",
       "      <td>2</td>\n",
       "      <td>01/22/2020</td>\n",
       "      <td>Beijing</td>\n",
       "      <td>Mainland China</td>\n",
       "      <td>1/22/2020 17:00</td>\n",
       "      <td>14.0</td>\n",
       "      <td>0.0</td>\n",
       "      <td>0.0</td>\n",
       "    </tr>\n",
       "    <tr>\n",
       "      <th>2</th>\n",
       "      <td>3</td>\n",
       "      <td>01/22/2020</td>\n",
       "      <td>Chongqing</td>\n",
       "      <td>Mainland China</td>\n",
       "      <td>1/22/2020 17:00</td>\n",
       "      <td>6.0</td>\n",
       "      <td>0.0</td>\n",
       "      <td>0.0</td>\n",
       "    </tr>\n",
       "    <tr>\n",
       "      <th>3</th>\n",
       "      <td>4</td>\n",
       "      <td>01/22/2020</td>\n",
       "      <td>Fujian</td>\n",
       "      <td>Mainland China</td>\n",
       "      <td>1/22/2020 17:00</td>\n",
       "      <td>1.0</td>\n",
       "      <td>0.0</td>\n",
       "      <td>0.0</td>\n",
       "    </tr>\n",
       "    <tr>\n",
       "      <th>4</th>\n",
       "      <td>5</td>\n",
       "      <td>01/22/2020</td>\n",
       "      <td>Gansu</td>\n",
       "      <td>Mainland China</td>\n",
       "      <td>1/22/2020 17:00</td>\n",
       "      <td>0.0</td>\n",
       "      <td>0.0</td>\n",
       "      <td>0.0</td>\n",
       "    </tr>\n",
       "  </tbody>\n",
       "</table>\n",
       "</div>"
      ],
      "text/plain": [
       "   SNo ObservationDate Province/State  Country/Region      Last Update   \n",
       "0    1      01/22/2020          Anhui  Mainland China  1/22/2020 17:00  \\\n",
       "1    2      01/22/2020        Beijing  Mainland China  1/22/2020 17:00   \n",
       "2    3      01/22/2020      Chongqing  Mainland China  1/22/2020 17:00   \n",
       "3    4      01/22/2020         Fujian  Mainland China  1/22/2020 17:00   \n",
       "4    5      01/22/2020          Gansu  Mainland China  1/22/2020 17:00   \n",
       "\n",
       "   Confirmed  Deaths  Recovered  \n",
       "0        1.0     0.0        0.0  \n",
       "1       14.0     0.0        0.0  \n",
       "2        6.0     0.0        0.0  \n",
       "3        1.0     0.0        0.0  \n",
       "4        0.0     0.0        0.0  "
      ]
     },
     "execution_count": 3,
     "metadata": {},
     "output_type": "execute_result"
    }
   ],
   "source": [
    "df.head()"
   ]
  },
  {
   "cell_type": "code",
   "execution_count": 4,
   "id": "ffd04455",
   "metadata": {},
   "outputs": [
    {
     "name": "stdout",
     "output_type": "stream",
     "text": [
      "<class 'pandas.core.frame.DataFrame'>\n",
      "RangeIndex: 306429 entries, 0 to 306428\n",
      "Data columns (total 8 columns):\n",
      " #   Column           Non-Null Count   Dtype  \n",
      "---  ------           --------------   -----  \n",
      " 0   SNo              306429 non-null  int64  \n",
      " 1   ObservationDate  306429 non-null  object \n",
      " 2   Province/State   228326 non-null  object \n",
      " 3   Country/Region   306429 non-null  object \n",
      " 4   Last Update      306429 non-null  object \n",
      " 5   Confirmed        306429 non-null  float64\n",
      " 6   Deaths           306429 non-null  float64\n",
      " 7   Recovered        306429 non-null  float64\n",
      "dtypes: float64(3), int64(1), object(4)\n",
      "memory usage: 18.7+ MB\n"
     ]
    }
   ],
   "source": [
    "df.info()"
   ]
  },
  {
   "cell_type": "code",
   "execution_count": 5,
   "id": "9c1ec1e5",
   "metadata": {},
   "outputs": [
    {
     "data": {
      "text/plain": [
       "Index(['SNo', 'ObservationDate', 'Province/State', 'Country/Region',\n",
       "       'Last Update', 'Confirmed', 'Deaths', 'Recovered'],\n",
       "      dtype='object')"
      ]
     },
     "execution_count": 5,
     "metadata": {},
     "output_type": "execute_result"
    }
   ],
   "source": [
    "df.columns"
   ]
  },
  {
   "cell_type": "code",
   "execution_count": 6,
   "id": "d7f0b776",
   "metadata": {},
   "outputs": [
    {
     "data": {
      "text/plain": [
       "(306429, 8)"
      ]
     },
     "execution_count": 6,
     "metadata": {},
     "output_type": "execute_result"
    }
   ],
   "source": [
    "df.shape"
   ]
  },
  {
   "cell_type": "code",
   "execution_count": 65,
   "id": "2521cb16",
   "metadata": {},
   "outputs": [
    {
     "data": {
      "text/plain": [
       "SNo                    0\n",
       "ObservationDate        0\n",
       "Province/State     78103\n",
       "Country/Region         0\n",
       "Last Update            0\n",
       "Confirmed              0\n",
       "Deaths                 0\n",
       "Recovered              0\n",
       "dtype: int64"
      ]
     },
     "execution_count": 65,
     "metadata": {},
     "output_type": "execute_result"
    }
   ],
   "source": [
    "df.isna().sum()"
   ]
  },
  {
   "cell_type": "code",
   "execution_count": 66,
   "id": "23306571",
   "metadata": {},
   "outputs": [],
   "source": [
    "df.dropna(inplace=True)"
   ]
  },
  {
   "cell_type": "markdown",
   "id": "879e049e",
   "metadata": {},
   "source": [
    "## Top 10 states in which most peoples are affected from coronavirus?"
   ]
  },
  {
   "cell_type": "code",
   "execution_count": 67,
   "id": "f4b3a5eb",
   "metadata": {},
   "outputs": [
    {
     "data": {
      "text/plain": [
       "array(['Anhui', 'Beijing', 'Chongqing', 'Fujian', 'Gansu', 'Guangdong',\n",
       "       'Guangxi', 'Guizhou', 'Hainan', 'Hebei', 'Heilongjiang', 'Henan',\n",
       "       'Hong Kong', 'Hubei', 'Hunan', 'Inner Mongolia', 'Jiangsu',\n",
       "       'Jiangxi', 'Jilin', 'Liaoning', 'Macau', 'Ningxia', 'Qinghai',\n",
       "       'Shaanxi', 'Shandong', 'Shanghai', 'Shanxi', 'Sichuan', 'Taiwan',\n",
       "       'Tianjin', 'Tibet', 'Washington', 'Xinjiang', 'Yunnan', 'Zhejiang',\n",
       "       'Unknown', 'Chicago', 'Illinois', 'California', 'Arizona',\n",
       "       'Ontario', 'New South Wales', 'Victoria', 'British Columbia',\n",
       "       'Bavaria', 'Queensland', 'Chicago, IL', 'South Australia',\n",
       "       'Boston, MA', 'Los Angeles, CA', 'Orange, CA', 'Santa Clara, CA',\n",
       "       'Seattle, WA', 'Tempe, AZ', 'San Benito, CA', 'Toronto, ON',\n",
       "       'London, ON', 'Madison, WI', 'Cruise Ship',\n",
       "       'Diamond Princess cruise ship', 'San Diego County, CA',\n",
       "       'San Antonio, TX', 'Ashland, NE', 'Travis, CA',\n",
       "       'From Diamond Princess', 'Lackland, TX', 'Humboldt County, CA',\n",
       "       'Sacramento County, CA', 'Omaha, NE (From Diamond Princess)',\n",
       "       'Travis, CA (From Diamond Princess)',\n",
       "       'Lackland, TX (From Diamond Princess)',\n",
       "       'Unassigned Location (From Diamond Princess)', ' Montreal, QC',\n",
       "       'Western Australia', 'Portland, OR', 'Snohomish County, WA',\n",
       "       'Providence, RI', 'King County, WA', 'Cook County, IL', 'Tasmania',\n",
       "       'Grafton County, NH', 'Hillsborough, FL', 'New York City, NY',\n",
       "       'Placer County, CA', 'San Mateo, CA', 'Sarasota, FL',\n",
       "       'Sonoma County, CA', 'Umatilla, OR', 'Fulton County, GA',\n",
       "       'Washington County, OR', ' Norfolk County, MA', 'Berkeley, CA',\n",
       "       'Maricopa County, AZ', 'Wake County, NC', 'Westchester County, NY',\n",
       "       'Orange County, CA', 'Northern Territory',\n",
       "       'Contra Costa County, CA', 'Bergen County, NJ',\n",
       "       'Harris County, TX', 'San Francisco County, CA',\n",
       "       'Clark County, NV', 'Fort Bend County, TX', 'Grant County, WA',\n",
       "       'Queens County, NY', 'Santa Rosa County, FL',\n",
       "       'Williamson County, TN', 'New York County, NY',\n",
       "       'Unassigned Location, WA', 'Montgomery County, MD',\n",
       "       'Suffolk County, MA', 'Denver County, CO', 'Summit County, CO',\n",
       "       'Calgary, Alberta', 'Chatham County, NC', 'Delaware County, PA',\n",
       "       'Douglas County, NE', 'Fayette County, KY', 'Floyd County, GA',\n",
       "       'Marion County, IN', 'Middlesex County, MA', 'Nassau County, NY',\n",
       "       'Norwell County, MA', 'Ramsey County, MN', 'Washoe County, NV',\n",
       "       'Wayne County, PA', 'Yolo County, CA', 'Santa Clara County, CA',\n",
       "       'Grand Princess Cruise Ship', 'Douglas County, CO',\n",
       "       'Providence County, RI', 'Alameda County, CA',\n",
       "       'Broward County, FL', 'Fairfield County, CT', 'Lee County, FL',\n",
       "       'Pinal County, AZ', 'Rockland County, NY', 'Saratoga County, NY',\n",
       "       'Edmonton, Alberta', 'Charleston County, SC', 'Clark County, WA',\n",
       "       'Cobb County, GA', 'Davis County, UT', 'El Paso County, CO',\n",
       "       'Honolulu County, HI', 'Jackson County, OR ',\n",
       "       'Jefferson County, WA', 'Kershaw County, SC', 'Klamath County, OR',\n",
       "       'Madera County, CA', 'Pierce County, WA', 'Plymouth County, MA',\n",
       "       'Santa Cruz County, CA', 'Tulsa County, OK',\n",
       "       'Montgomery County, TX', 'Norfolk County, MA',\n",
       "       'Montgomery County, PA', 'Fairfax County, VA',\n",
       "       'Rockingham County, NH', 'Washington, D.C.',\n",
       "       'Berkshire County, MA', 'Davidson County, TN',\n",
       "       'Douglas County, OR', 'Fresno County, CA', 'Harford County, MD',\n",
       "       'Hendricks County, IN', 'Hudson County, NJ', 'Johnson County, KS',\n",
       "       'Kittitas County, WA', 'Manatee County, FL', 'Marion County, OR',\n",
       "       'Okaloosa County, FL', 'Polk County, GA', 'Riverside County, CA',\n",
       "       'Shelby County, TN', 'Spokane County, WA', 'St. Louis County, MO',\n",
       "       'Suffolk County, NY', 'Ulster County, NY',\n",
       "       'Unassigned Location, VT', 'Unknown Location, MA',\n",
       "       'Volusia County, FL', 'Alberta', 'Quebec', 'Johnson County, IA',\n",
       "       'Harrison County, KY', 'Bennington County, VT',\n",
       "       'Carver County, MN', 'Charlotte County, FL', 'Cherokee County, GA',\n",
       "       'Collin County, TX', 'Jefferson County, KY',\n",
       "       'Jefferson Parish, LA', 'Shasta County, CA',\n",
       "       'Spartanburg County, SC', 'New York', 'Massachusetts',\n",
       "       'Grand Princess', 'Georgia', 'Colorado', 'Florida', 'New Jersey',\n",
       "       'Oregon', 'Texas', 'Pennsylvania', 'Iowa', 'Maryland',\n",
       "       'North Carolina', 'South Carolina', 'Tennessee', 'Virginia',\n",
       "       'Indiana', 'Kentucky', 'District of Columbia', 'Nevada',\n",
       "       'New Hampshire', 'Minnesota', 'Nebraska', 'Ohio', 'Rhode Island',\n",
       "       'Wisconsin', 'Connecticut', 'Hawaii', 'Oklahoma', 'Utah', 'Kansas',\n",
       "       'Louisiana', 'Missouri', 'Vermont', 'Alaska', 'Arkansas',\n",
       "       'Delaware', 'Idaho', 'Maine', 'Michigan', 'Mississippi', 'Montana',\n",
       "       'New Mexico', 'North Dakota', 'South Dakota', 'West Virginia',\n",
       "       'Wyoming', 'France', 'UK', 'Denmark', 'Faroe Islands', 'St Martin',\n",
       "       'Channel Islands', 'New Brunswick', 'Saint Barthelemy',\n",
       "       'Gibraltar', 'Australian Capital Territory', 'United Kingdom',\n",
       "       'French Polynesia', 'Manitoba', 'Saskatchewan', 'Alabama',\n",
       "       'Fench Guiana', 'Puerto Rico', 'Virgin Islands, U.S.',\n",
       "       'French Guiana', 'Guam', 'Newfoundland and Labrador',\n",
       "       'Prince Edward Island', 'Mayotte', 'Netherlands', 'Nova Scotia',\n",
       "       'Guadeloupe', 'Curacao', 'Virgin Islands', 'Cayman Islands',\n",
       "       'Reunion', 'Aruba', 'United States Virgin Islands', 'US',\n",
       "       'Montserrat', 'Greenland', 'New Caledonia', 'Bermuda',\n",
       "       'Sint Maarten', 'Isle of Man', 'Northwest Territories',\n",
       "       'American Samoa', 'External territories', 'Jervis Bay Territory',\n",
       "       'Martinique', 'Northern Mariana Islands', 'Nunavut',\n",
       "       'Saint Helena, Ascension and Tristan da Cunha', 'Wuhan Evacuee',\n",
       "       'Recovered', 'Yukon', 'Anguilla', 'British Virgin Islands',\n",
       "       'Turks and Caicos Islands', 'Bonaire, Sint Eustatius and Saba',\n",
       "       'Falkland Islands (Islas Malvinas)', 'Saint Pierre and Miquelon',\n",
       "       'Falkland Islands (Malvinas)', 'Abruzzo', 'Andalusia', 'Aragon',\n",
       "       'Asturias', 'Baden-Wurttemberg', 'Baleares', 'Basilicata',\n",
       "       'Bayern', 'Berlin', 'Brandenburg', 'Bremen', 'C. Valenciana',\n",
       "       'Calabria', 'Campania', 'Canarias', 'Cantabria',\n",
       "       'Castilla - La Mancha', 'Castilla y Leon', 'Catalonia', 'Ceuta',\n",
       "       'Emilia-Romagna', 'Extremadura', 'Friuli Venezia Giulia',\n",
       "       'Galicia', 'Hamburg', 'Hessen', 'La Rioja', 'Lazio', 'Liguria',\n",
       "       'Lombardia', 'Madrid', 'Marche', 'Mecklenburg-Vorpommern',\n",
       "       'Melilla', 'Molise', 'Murcia', 'Navarra', 'Niedersachsen',\n",
       "       'Nordrhein-Westfalen', 'P.A. Bolzano', 'P.A. Trento', 'Pais Vasco',\n",
       "       'Piemonte', 'Puglia', 'Rheinland-Pfalz', 'Saarland', 'Sachsen',\n",
       "       'Sachsen-Anhalt', 'Sardegna', 'Schleswig-Holstein', 'Sicilia',\n",
       "       'Thuringen', 'Toscana', 'Umbria', \"Valle d'Aosta\", 'Veneto',\n",
       "       'Acre', 'Aguascalientes', 'Alagoas', 'Amapa', 'Amazonas',\n",
       "       'Antofagasta', 'Araucania', 'Arica y Parinacota', 'Atacama',\n",
       "       'Aysen', 'Bahia', 'Baja California', 'Baja California Sur',\n",
       "       'Biobio', 'Campeche', 'Ceara', 'Chiapas', 'Chihuahua',\n",
       "       'Ciudad de Mexico', 'Coahuila', 'Colima', 'Coquimbo',\n",
       "       'Distrito Federal', 'Durango', 'Espirito Santo', 'Goias',\n",
       "       'Guanajuato', 'Guerrero', 'Hidalgo', 'Jalisco', 'Los Lagos',\n",
       "       'Los Rios', 'Magallanes', 'Maranhao', 'Mato Grosso',\n",
       "       'Mato Grosso do Sul', 'Maule', 'Metropolitana', 'Mexico',\n",
       "       'Michoacan', 'Minas Gerais', 'Morelos', 'Nayarit', 'Nuble',\n",
       "       'Nuevo Leon', 'OHiggins', 'Oaxaca', 'Para', 'Paraiba', 'Parana',\n",
       "       'Pernambuco', 'Piaui', 'Puebla', 'Queretaro', 'Quintana Roo',\n",
       "       'Rio Grande do Norte', 'Rio Grande do Sul', 'Rio de Janeiro',\n",
       "       'Rondonia', 'Roraima', 'San Luis Potosi', 'Santa Catarina',\n",
       "       'Sao Paulo', 'Sergipe', 'Sinaloa', 'Sonora', 'Tabasco',\n",
       "       'Tamaulipas', 'Tarapaca', 'Tlaxcala', 'Tocantins', 'Valparaiso',\n",
       "       'Veracruz', 'Yucatan', 'Zacatecas', 'Aichi', 'Akita', 'Ancash',\n",
       "       'Antioquia', 'Aomori', 'Apurimac', 'Arauca', 'Arequipa',\n",
       "       'Atlantico', 'Ayacucho', 'Bolivar', 'Boyaca', 'Cajamarca',\n",
       "       'Caldas', 'Callao', 'Capital District', 'Caqueta', 'Casanare',\n",
       "       'Cauca', 'Cesar', 'Chiba', 'Choco', 'Cordoba', 'Cundinamarca',\n",
       "       'Cusco', 'Ehime', 'Fukui', 'Fukuoka', 'Fukushima', 'Gifu', 'Gunma',\n",
       "       'Hiroshima', 'Hokkaido', 'Huancavelica', 'Huanuco', 'Huila',\n",
       "       'Hyogo', 'Ibaraki', 'Ica', 'Ishikawa', 'Junin', 'Kagawa',\n",
       "       'Kagoshima', 'Kanagawa', 'Kochi', 'Kumamoto', 'Kyoto',\n",
       "       'La Guajira', 'La Libertad', 'Lambayeque', 'Lima', 'Loreto',\n",
       "       'Madre de Dios', 'Magdalena', 'Meta', 'Mie', 'Miyagi', 'Miyazaki',\n",
       "       'Moquegua', 'Nagano', 'Nagasaki', 'Nara', 'Narino', 'Niigata',\n",
       "       'Norte de Santander', 'Oita', 'Okayama', 'Okinawa', 'Osaka',\n",
       "       'Pasco', 'Piura', 'Port Quarantine', 'Puno', 'Putumayo', 'Quindio',\n",
       "       'Risaralda', 'Saga', 'Saitama', 'San Andres y Providencia',\n",
       "       'San Martin', 'Santander', 'Shiga', 'Shimane', 'Shizuoka', 'Sucre',\n",
       "       'Tacna', 'Tochigi', 'Tokushima', 'Tokyo', 'Tolima', 'Tottori',\n",
       "       'Toyama', 'Tumbes', 'Ucayali', 'Valle del Cauca', 'Vaupes',\n",
       "       'Wakayama', 'Yamagata', 'Yamaguchi', 'Yamanashi', 'Guainia',\n",
       "       'Vichada', 'Adygea Republic', 'Altai Krai', 'Altai Republic',\n",
       "       'Amur Oblast', 'Arkhangelsk Oblast', 'Astrakhan Oblast',\n",
       "       'Bashkortostan Republic', 'Belgorod Oblast', 'Bryansk Oblast',\n",
       "       'Buryatia Republic', 'Chechen Republic', 'Chelyabinsk Oblast',\n",
       "       'Cherkasy Oblast', 'Chernihiv Oblast', 'Chernivtsi Oblast',\n",
       "       'Chukotka Autonomous Okrug', 'Chuvashia Republic',\n",
       "       'Crimea Republic*', 'Dagestan Republic', 'Dnipropetrovsk Oblast',\n",
       "       'Donetsk Oblast', 'Ingushetia Republic', 'Irkutsk Oblast',\n",
       "       'Ivano-Frankivsk Oblast', 'Ivanovo Oblast',\n",
       "       'Jewish Autonomous Okrug', 'Kabardino-Balkarian Republic',\n",
       "       'Kaliningrad Oblast', 'Kalmykia Republic', 'Kaluga Oblast',\n",
       "       'Kamchatka Krai', 'Karachay-Cherkess Republic', 'Karelia Republic',\n",
       "       'Kemerovo Oblast', 'Khabarovsk Krai', 'Khakassia Republic',\n",
       "       'Khanty-Mansi Autonomous Okrug', 'Kharkiv Oblast',\n",
       "       'Kherson Oblast', 'Khmelnytskyi Oblast', 'Kiev', 'Kiev Oblast',\n",
       "       'Kirov Oblast', 'Kirovohrad Oblast', 'Komi Republic',\n",
       "       'Kostroma Oblast', 'Krasnodar Krai', 'Krasnoyarsk Krai',\n",
       "       'Kurgan Oblast', 'Kursk Oblast', 'Leningrad Oblast',\n",
       "       'Lipetsk Oblast', 'Luhansk Oblast', 'Lviv Oblast',\n",
       "       'Magadan Oblast', 'Mari El Republic', 'Mordovia Republic',\n",
       "       'Moscow', 'Moscow Oblast', 'Murmansk Oblast', 'Mykolaiv Oblast',\n",
       "       'Nenets Autonomous Okrug', 'Nizhny Novgorod Oblast',\n",
       "       'North Ossetia - Alania Republic', 'Novgorod Oblast',\n",
       "       'Novosibirsk Oblast', 'Odessa Oblast', 'Omsk Oblast',\n",
       "       'Orel Oblast', 'Orenburg Oblast', 'Penza Oblast', 'Perm Krai',\n",
       "       'Poltava Oblast', 'Primorsky Krai', 'Pskov Oblast', 'Rivne Oblast',\n",
       "       'Rostov Oblast', 'Ryazan Oblast', 'Saint Petersburg',\n",
       "       'Sakha (Yakutiya) Republic', 'Sakhalin Oblast', 'Samara Oblast',\n",
       "       'Saratov Oblast', 'Sevastopol*', 'Smolensk Oblast',\n",
       "       'Stavropol Krai', 'Sumy Oblast', 'Sverdlovsk Oblast',\n",
       "       'Tambov Oblast', 'Tatarstan Republic', 'Ternopil Oblast',\n",
       "       'Tomsk Oblast', 'Tula Oblast', 'Tver Oblast', 'Tyumen Oblast',\n",
       "       'Tyva Republic', 'Udmurt Republic', 'Ulyanovsk Oblast',\n",
       "       'Vinnytsia Oblast', 'Vladimir Oblast', 'Volgograd Oblast',\n",
       "       'Vologda Oblast', 'Volyn Oblast', 'Voronezh Oblast',\n",
       "       'Yamalo-Nenets Autonomous Okrug', 'Yaroslavl Oblast',\n",
       "       'Zabaykalsky Krai', 'Zakarpattia Oblast', 'Zaporizhia Oblast',\n",
       "       'Zhytomyr Oblast', 'Blekinge', 'Dalarna', 'Gavleborg', 'Gotland',\n",
       "       'Halland', 'Jamtland Harjedalen', 'Jonkoping', 'Kalmar',\n",
       "       'Kronoberg', 'Norrbotten', 'Orebro', 'Ostergotland', 'Skane',\n",
       "       'Sormland', 'Stockholm', 'Uppsala', 'Varmland', 'Vasterbotten',\n",
       "       'Vasternorrland', 'Vastmanland', 'Vastra Gotaland', 'Guaviare',\n",
       "       'Andaman and Nicobar Islands', 'Andhra Pradesh',\n",
       "       'Arunachal Pradesh', 'Assam', 'Azad Jammu and Kashmir',\n",
       "       'Balochistan', 'Bihar', 'Chandigarh', 'Chhattisgarh',\n",
       "       'Dadar Nagar Haveli', 'Delhi', 'Gilgit-Baltistan', 'Goa',\n",
       "       'Gujarat', 'Haryana', 'Himachal Pradesh', 'Islamabad',\n",
       "       'Jammu and Kashmir', 'Jharkhand', 'Karnataka', 'Kerala',\n",
       "       'Khyber Pakhtunkhwa', 'Ladakh', 'Madhya Pradesh', 'Maharashtra',\n",
       "       'Manipur', 'Meghalaya', 'Mizoram', 'Nagaland', 'Odisha',\n",
       "       'Puducherry', 'Punjab', 'Rajasthan', 'Sikkim', 'Sindh',\n",
       "       'Tamil Nadu', 'Telangana', 'Tripura', 'Uttar Pradesh',\n",
       "       'Uttarakhand', 'West Bengal',\n",
       "       'Dadra and Nagar Haveli and Daman and Diu', 'England',\n",
       "       'Northern Ireland', 'Scotland', 'Wales', 'Drenthe', 'Flevoland',\n",
       "       'Friesland', 'Gelderland', 'Groningen', 'Limburg', 'Noord-Brabant',\n",
       "       'Noord-Holland', 'Overijssel', 'Utrecht', 'Zeeland',\n",
       "       'Zuid-Holland', 'Iwate', 'Lakshadweep', 'Antwerp', 'Brussels',\n",
       "       'East Flanders', 'Flemish Brabant', 'Hainaut', 'Liege',\n",
       "       'Luxembourg', 'Namur', 'Walloon Brabant', 'West Flanders',\n",
       "       'Repatriated Travellers', 'Wallis and Futuna'], dtype=object)"
      ]
     },
     "execution_count": 67,
     "metadata": {},
     "output_type": "execute_result"
    }
   ],
   "source": [
    "df['Province/State'].unique()"
   ]
  },
  {
   "cell_type": "code",
   "execution_count": 68,
   "id": "0c0d7e31",
   "metadata": {},
   "outputs": [
    {
     "data": {
      "text/plain": [
       "736"
      ]
     },
     "execution_count": 68,
     "metadata": {},
     "output_type": "execute_result"
    }
   ],
   "source": [
    "df['Province/State'].nunique()"
   ]
  },
  {
   "cell_type": "code",
   "execution_count": 69,
   "id": "77dfb52e",
   "metadata": {},
   "outputs": [
    {
     "data": {
      "text/plain": [
       "Province/State\n",
       "California        696898013.0\n",
       "Maharashtra       681186928.0\n",
       "England           666227518.0\n",
       "Texas             552039886.0\n",
       "Sao Paulo         521308945.0\n",
       "Florida           429469197.0\n",
       "New York          380636880.0\n",
       "Karnataka         282256260.0\n",
       "Illinois          263055187.0\n",
       "Andhra Pradesh    254740494.0\n",
       "Name: Confirmed, dtype: float64"
      ]
     },
     "execution_count": 69,
     "metadata": {},
     "output_type": "execute_result"
    }
   ],
   "source": [
    "df.groupby('Province/State')['Confirmed'].sum().sort_values(ascending=False).head(10)"
   ]
  },
  {
   "cell_type": "markdown",
   "id": "adeb3817",
   "metadata": {},
   "source": [
    "## Top 20 Country in which most peoples are Died from coronavirus?"
   ]
  },
  {
   "cell_type": "code",
   "execution_count": 70,
   "id": "e519ee70",
   "metadata": {},
   "outputs": [
    {
     "data": {
      "text/plain": [
       "29"
      ]
     },
     "execution_count": 70,
     "metadata": {},
     "output_type": "execute_result"
    }
   ],
   "source": [
    "df['Country/Region'].nunique()"
   ]
  },
  {
   "cell_type": "code",
   "execution_count": 71,
   "id": "cd6f9efd",
   "metadata": {},
   "outputs": [
    {
     "data": {
      "text/plain": [
       "Country/Region\n",
       "US                123303762.0\n",
       "Brazil             72339029.0\n",
       "India              44256013.0\n",
       "Mexico             42918161.0\n",
       "UK                 27316263.0\n",
       "Italy              24852224.0\n",
       "Russia             18271229.0\n",
       "Spain              18124340.0\n",
       "Colombia           13962927.0\n",
       "Germany            13150115.0\n",
       "Peru               13119233.0\n",
       "Ukraine             6209502.0\n",
       "Chile               5707664.0\n",
       "Canada              5692896.0\n",
       "Belgium             4219275.0\n",
       "Netherlands         3616057.0\n",
       "Pakistan            3489065.0\n",
       "Sweden              3167242.0\n",
       "Mainland China      2089872.0\n",
       "Japan               1555677.0\n",
       "Name: Deaths, dtype: float64"
      ]
     },
     "execution_count": 71,
     "metadata": {},
     "output_type": "execute_result"
    }
   ],
   "source": [
    "df.groupby('Country/Region')['Deaths'].sum().sort_values(ascending=False).head(20)"
   ]
  },
  {
   "cell_type": "markdown",
   "id": "09e828f3",
   "metadata": {},
   "source": [
    "## Plot bar graph of top 10 countries in which most people are died\n"
   ]
  },
  {
   "cell_type": "code",
   "execution_count": 72,
   "id": "ce9f02f6",
   "metadata": {},
   "outputs": [],
   "source": [
    "top10=df.groupby('Country/Region')['Deaths'].sum().sort_values(ascending=False).head(10).reset_index()"
   ]
  },
  {
   "cell_type": "code",
   "execution_count": 73,
   "id": "baf58e30",
   "metadata": {},
   "outputs": [
    {
     "data": {
      "image/png": "[encoded data removed]",
      "text/plain": [
       "<Figure size 640x480 with 1 Axes>"
      ]
     },
     "metadata": {},
     "output_type": "display_data"
    }
   ],
   "source": [
    "fig,ax=plt.subplots()\n",
    "ax=sns.barplot(data=top10,x='Country/Region',y='Deaths',palette='rainbow')\n",
    "ax.set_title('Top 10 countries in which most peoples are died',color='r')\n",
    "ax.spines['top'].set_visible(False)\n",
    "ax.spines['right'].set_visible(False)\n"
   ]
  },
  {
   "cell_type": "markdown",
   "id": "5bd1ceba",
   "metadata": {},
   "source": [
    "## Plot bar graph of top 15 countries in which most people are Recovered\n"
   ]
  },
  {
   "cell_type": "code",
   "execution_count": 74,
   "id": "fe441075",
   "metadata": {},
   "outputs": [],
   "source": [
    "top15=df.groupby('Country/Region')['Recovered'].sum().sort_values(ascending=False).head(15).reset_index()"
   ]
  },
  {
   "cell_type": "code",
   "execution_count": 75,
   "id": "6f4b5e7d",
   "metadata": {},
   "outputs": [
    {
     "data": {
      "text/html": [
       "<div>\n",
       "<style scoped>\n",
       "    .dataframe tbody tr th:only-of-type {\n",
       "        vertical-align: middle;\n",
       "    }\n",
       "\n",
       "    .dataframe tbody tr th {\n",
       "        vertical-align: top;\n",
       "    }\n",
       "\n",
       "    .dataframe thead th {\n",
       "        text-align: right;\n",
       "    }\n",
       "</style>\n",
       "<table border=\"1\" class=\"dataframe\">\n",
       "  <thead>\n",
       "    <tr style=\"text-align: right;\">\n",
       "      <th></th>\n",
       "      <th>Country/Region</th>\n",
       "      <th>Recovered</th>\n",
       "    </tr>\n",
       "  </thead>\n",
       "  <tbody>\n",
       "    <tr>\n",
       "      <th>0</th>\n",
       "      <td>India</td>\n",
       "      <td>2.898258e+09</td>\n",
       "    </tr>\n",
       "    <tr>\n",
       "      <th>1</th>\n",
       "      <td>Brazil</td>\n",
       "      <td>2.311993e+09</td>\n",
       "    </tr>\n",
       "    <tr>\n",
       "      <th>2</th>\n",
       "      <td>Russia</td>\n",
       "      <td>7.883275e+08</td>\n",
       "    </tr>\n",
       "    <tr>\n",
       "      <th>3</th>\n",
       "      <td>US</td>\n",
       "      <td>5.033710e+08</td>\n",
       "    </tr>\n",
       "    <tr>\n",
       "      <th>4</th>\n",
       "      <td>Italy</td>\n",
       "      <td>4.851544e+08</td>\n",
       "    </tr>\n",
       "    <tr>\n",
       "      <th>5</th>\n",
       "      <td>Colombia</td>\n",
       "      <td>4.686380e+08</td>\n",
       "    </tr>\n",
       "    <tr>\n",
       "      <th>6</th>\n",
       "      <td>Germany</td>\n",
       "      <td>4.493167e+08</td>\n",
       "    </tr>\n",
       "    <tr>\n",
       "      <th>7</th>\n",
       "      <td>Mexico</td>\n",
       "      <td>3.612402e+08</td>\n",
       "    </tr>\n",
       "    <tr>\n",
       "      <th>8</th>\n",
       "      <td>Peru</td>\n",
       "      <td>3.227364e+08</td>\n",
       "    </tr>\n",
       "    <tr>\n",
       "      <th>9</th>\n",
       "      <td>Ukraine</td>\n",
       "      <td>2.342478e+08</td>\n",
       "    </tr>\n",
       "    <tr>\n",
       "      <th>10</th>\n",
       "      <td>Chile</td>\n",
       "      <td>2.166768e+08</td>\n",
       "    </tr>\n",
       "    <tr>\n",
       "      <th>11</th>\n",
       "      <td>Canada</td>\n",
       "      <td>1.715769e+08</td>\n",
       "    </tr>\n",
       "    <tr>\n",
       "      <th>12</th>\n",
       "      <td>Pakistan</td>\n",
       "      <td>1.453124e+08</td>\n",
       "    </tr>\n",
       "    <tr>\n",
       "      <th>13</th>\n",
       "      <td>Japan</td>\n",
       "      <td>7.805405e+07</td>\n",
       "    </tr>\n",
       "    <tr>\n",
       "      <th>14</th>\n",
       "      <td>Spain</td>\n",
       "      <td>5.727280e+07</td>\n",
       "    </tr>\n",
       "  </tbody>\n",
       "</table>\n",
       "</div>"
      ],
      "text/plain": [
       "   Country/Region     Recovered\n",
       "0           India  2.898258e+09\n",
       "1          Brazil  2.311993e+09\n",
       "2          Russia  7.883275e+08\n",
       "3              US  5.033710e+08\n",
       "4           Italy  4.851544e+08\n",
       "5        Colombia  4.686380e+08\n",
       "6         Germany  4.493167e+08\n",
       "7          Mexico  3.612402e+08\n",
       "8            Peru  3.227364e+08\n",
       "9         Ukraine  2.342478e+08\n",
       "10          Chile  2.166768e+08\n",
       "11         Canada  1.715769e+08\n",
       "12       Pakistan  1.453124e+08\n",
       "13          Japan  7.805405e+07\n",
       "14          Spain  5.727280e+07"
      ]
     },
     "execution_count": 75,
     "metadata": {},
     "output_type": "execute_result"
    }
   ],
   "source": [
    "top15"
   ]
  },
  {
   "cell_type": "code",
   "execution_count": 76,
   "id": "345fb56d",
   "metadata": {},
   "outputs": [
    {
     "data": {
      "image/png": "[encoded data removed]",
      "text/plain": [
       "<Figure size 640x480 with 1 Axes>"
      ]
     },
     "metadata": {},
     "output_type": "display_data"
    }
   ],
   "source": [
    "fig,ax=plt.subplots()\n",
    "ax=sns.barplot(data=top15,x='Country/Region',y='Recovered')\n",
    "ax.set_title('Top 15 countries in which most peoples are Recovered',color='violet')\n",
    "ax.spines['top'].set_visible(False)\n",
    "ax.spines['right'].set_visible(False)\n",
    "ax.set_xticklabels(top15['Country/Region'],rotation=90)\n",
    "plt.show()"
   ]
  },
  {
   "cell_type": "code",
   "execution_count": 77,
   "id": "70ce43bc",
   "metadata": {},
   "outputs": [
    {
     "data": {
      "text/html": [
       "<div>\n",
       "<style scoped>\n",
       "    .dataframe tbody tr th:only-of-type {\n",
       "        vertical-align: middle;\n",
       "    }\n",
       "\n",
       "    .dataframe tbody tr th {\n",
       "        vertical-align: top;\n",
       "    }\n",
       "\n",
       "    .dataframe thead th {\n",
       "        text-align: right;\n",
       "    }\n",
       "</style>\n",
       "<table border=\"1\" class=\"dataframe\">\n",
       "  <thead>\n",
       "    <tr style=\"text-align: right;\">\n",
       "      <th></th>\n",
       "      <th>SNo</th>\n",
       "      <th>ObservationDate</th>\n",
       "      <th>Province/State</th>\n",
       "      <th>Country/Region</th>\n",
       "      <th>Last Update</th>\n",
       "      <th>Confirmed</th>\n",
       "      <th>Deaths</th>\n",
       "      <th>Recovered</th>\n",
       "    </tr>\n",
       "  </thead>\n",
       "  <tbody>\n",
       "    <tr>\n",
       "      <th>0</th>\n",
       "      <td>1</td>\n",
       "      <td>2020-01-22</td>\n",
       "      <td>Anhui</td>\n",
       "      <td>Mainland China</td>\n",
       "      <td>1/22/2020 17:00</td>\n",
       "      <td>1.0</td>\n",
       "      <td>0.0</td>\n",
       "      <td>0.0</td>\n",
       "    </tr>\n",
       "    <tr>\n",
       "      <th>1</th>\n",
       "      <td>2</td>\n",
       "      <td>2020-01-22</td>\n",
       "      <td>Beijing</td>\n",
       "      <td>Mainland China</td>\n",
       "      <td>1/22/2020 17:00</td>\n",
       "      <td>14.0</td>\n",
       "      <td>0.0</td>\n",
       "      <td>0.0</td>\n",
       "    </tr>\n",
       "    <tr>\n",
       "      <th>2</th>\n",
       "      <td>3</td>\n",
       "      <td>2020-01-22</td>\n",
       "      <td>Chongqing</td>\n",
       "      <td>Mainland China</td>\n",
       "      <td>1/22/2020 17:00</td>\n",
       "      <td>6.0</td>\n",
       "      <td>0.0</td>\n",
       "      <td>0.0</td>\n",
       "    </tr>\n",
       "    <tr>\n",
       "      <th>3</th>\n",
       "      <td>4</td>\n",
       "      <td>2020-01-22</td>\n",
       "      <td>Fujian</td>\n",
       "      <td>Mainland China</td>\n",
       "      <td>1/22/2020 17:00</td>\n",
       "      <td>1.0</td>\n",
       "      <td>0.0</td>\n",
       "      <td>0.0</td>\n",
       "    </tr>\n",
       "    <tr>\n",
       "      <th>4</th>\n",
       "      <td>5</td>\n",
       "      <td>2020-01-22</td>\n",
       "      <td>Gansu</td>\n",
       "      <td>Mainland China</td>\n",
       "      <td>1/22/2020 17:00</td>\n",
       "      <td>0.0</td>\n",
       "      <td>0.0</td>\n",
       "      <td>0.0</td>\n",
       "    </tr>\n",
       "  </tbody>\n",
       "</table>\n",
       "</div>"
      ],
      "text/plain": [
       "   SNo ObservationDate Province/State  Country/Region      Last Update   \n",
       "0    1      2020-01-22          Anhui  Mainland China  1/22/2020 17:00  \\\n",
       "1    2      2020-01-22        Beijing  Mainland China  1/22/2020 17:00   \n",
       "2    3      2020-01-22      Chongqing  Mainland China  1/22/2020 17:00   \n",
       "3    4      2020-01-22         Fujian  Mainland China  1/22/2020 17:00   \n",
       "4    5      2020-01-22          Gansu  Mainland China  1/22/2020 17:00   \n",
       "\n",
       "   Confirmed  Deaths  Recovered  \n",
       "0        1.0     0.0        0.0  \n",
       "1       14.0     0.0        0.0  \n",
       "2        6.0     0.0        0.0  \n",
       "3        1.0     0.0        0.0  \n",
       "4        0.0     0.0        0.0  "
      ]
     },
     "execution_count": 77,
     "metadata": {},
     "output_type": "execute_result"
    }
   ],
   "source": [
    "df.head()"
   ]
  },
  {
   "cell_type": "markdown",
   "id": "3034a9f0",
   "metadata": {},
   "source": [
    "## Change observationDate dtype as date time "
   ]
  },
  {
   "cell_type": "code",
   "execution_count": null,
   "id": "e1763a41",
   "metadata": {},
   "outputs": [],
   "source": []
  },
  {
   "cell_type": "code",
   "execution_count": 84,
   "id": "f0a82063",
   "metadata": {},
   "outputs": [],
   "source": [
    "df['ObservationDate']=pd.to_datetime(df['ObservationDate'])"
   ]
  },
  {
   "cell_type": "code",
   "execution_count": 85,
   "id": "1f0c3e5e",
   "metadata": {},
   "outputs": [
    {
     "data": {
      "text/html": [
       "<div>\n",
       "<style scoped>\n",
       "    .dataframe tbody tr th:only-of-type {\n",
       "        vertical-align: middle;\n",
       "    }\n",
       "\n",
       "    .dataframe tbody tr th {\n",
       "        vertical-align: top;\n",
       "    }\n",
       "\n",
       "    .dataframe thead th {\n",
       "        text-align: right;\n",
       "    }\n",
       "</style>\n",
       "<table border=\"1\" class=\"dataframe\">\n",
       "  <thead>\n",
       "    <tr style=\"text-align: right;\">\n",
       "      <th></th>\n",
       "      <th>SNo</th>\n",
       "      <th>ObservationDate</th>\n",
       "      <th>Province/State</th>\n",
       "      <th>Country/Region</th>\n",
       "      <th>Last Update</th>\n",
       "      <th>Confirmed</th>\n",
       "      <th>Deaths</th>\n",
       "      <th>Recovered</th>\n",
       "    </tr>\n",
       "  </thead>\n",
       "  <tbody>\n",
       "    <tr>\n",
       "      <th>0</th>\n",
       "      <td>1</td>\n",
       "      <td>2020-01-22</td>\n",
       "      <td>Anhui</td>\n",
       "      <td>Mainland China</td>\n",
       "      <td>1/22/2020 17:00</td>\n",
       "      <td>1.0</td>\n",
       "      <td>0.0</td>\n",
       "      <td>0.0</td>\n",
       "    </tr>\n",
       "    <tr>\n",
       "      <th>1</th>\n",
       "      <td>2</td>\n",
       "      <td>2020-01-22</td>\n",
       "      <td>Beijing</td>\n",
       "      <td>Mainland China</td>\n",
       "      <td>1/22/2020 17:00</td>\n",
       "      <td>14.0</td>\n",
       "      <td>0.0</td>\n",
       "      <td>0.0</td>\n",
       "    </tr>\n",
       "    <tr>\n",
       "      <th>2</th>\n",
       "      <td>3</td>\n",
       "      <td>2020-01-22</td>\n",
       "      <td>Chongqing</td>\n",
       "      <td>Mainland China</td>\n",
       "      <td>1/22/2020 17:00</td>\n",
       "      <td>6.0</td>\n",
       "      <td>0.0</td>\n",
       "      <td>0.0</td>\n",
       "    </tr>\n",
       "    <tr>\n",
       "      <th>3</th>\n",
       "      <td>4</td>\n",
       "      <td>2020-01-22</td>\n",
       "      <td>Fujian</td>\n",
       "      <td>Mainland China</td>\n",
       "      <td>1/22/2020 17:00</td>\n",
       "      <td>1.0</td>\n",
       "      <td>0.0</td>\n",
       "      <td>0.0</td>\n",
       "    </tr>\n",
       "    <tr>\n",
       "      <th>4</th>\n",
       "      <td>5</td>\n",
       "      <td>2020-01-22</td>\n",
       "      <td>Gansu</td>\n",
       "      <td>Mainland China</td>\n",
       "      <td>1/22/2020 17:00</td>\n",
       "      <td>0.0</td>\n",
       "      <td>0.0</td>\n",
       "      <td>0.0</td>\n",
       "    </tr>\n",
       "  </tbody>\n",
       "</table>\n",
       "</div>"
      ],
      "text/plain": [
       "   SNo ObservationDate Province/State  Country/Region      Last Update   \n",
       "0    1      2020-01-22          Anhui  Mainland China  1/22/2020 17:00  \\\n",
       "1    2      2020-01-22        Beijing  Mainland China  1/22/2020 17:00   \n",
       "2    3      2020-01-22      Chongqing  Mainland China  1/22/2020 17:00   \n",
       "3    4      2020-01-22         Fujian  Mainland China  1/22/2020 17:00   \n",
       "4    5      2020-01-22          Gansu  Mainland China  1/22/2020 17:00   \n",
       "\n",
       "   Confirmed  Deaths  Recovered  \n",
       "0        1.0     0.0        0.0  \n",
       "1       14.0     0.0        0.0  \n",
       "2        6.0     0.0        0.0  \n",
       "3        1.0     0.0        0.0  \n",
       "4        0.0     0.0        0.0  "
      ]
     },
     "execution_count": 85,
     "metadata": {},
     "output_type": "execute_result"
    }
   ],
   "source": [
    "df.head()"
   ]
  },
  {
   "cell_type": "markdown",
   "id": "2817ea64",
   "metadata": {},
   "source": [
    "##   find 2020 and 2021 first 5 months average deaths and recovered by each country"
   ]
  },
  {
   "cell_type": "code",
   "execution_count": 119,
   "id": "3255b460",
   "metadata": {},
   "outputs": [],
   "source": [
    "d_2020=df[(df.loc[:,'ObservationDate']>='2020-01-01')&(df.loc[:,'ObservationDate']<'2020-06-01')]"
   ]
  },
  {
   "cell_type": "code",
   "execution_count": 120,
   "id": "da93c610",
   "metadata": {},
   "outputs": [],
   "source": [
    "d_2021=df[(df.loc[:,'ObservationDate']>='2021-01-01')&(df.loc[:,'ObservationDate']<'2021-06-01')]"
   ]
  },
  {
   "cell_type": "code",
   "execution_count": 137,
   "id": "3766c581",
   "metadata": {},
   "outputs": [
    {
     "data": {
      "text/html": [
       "<div>\n",
       "<style scoped>\n",
       "    .dataframe tbody tr th:only-of-type {\n",
       "        vertical-align: middle;\n",
       "    }\n",
       "\n",
       "    .dataframe tbody tr th {\n",
       "        vertical-align: top;\n",
       "    }\n",
       "\n",
       "    .dataframe thead th {\n",
       "        text-align: right;\n",
       "    }\n",
       "</style>\n",
       "<table border=\"1\" class=\"dataframe\">\n",
       "  <thead>\n",
       "    <tr style=\"text-align: right;\">\n",
       "      <th></th>\n",
       "      <th>Country/Region</th>\n",
       "      <th>Deaths</th>\n",
       "    </tr>\n",
       "  </thead>\n",
       "  <tbody>\n",
       "    <tr>\n",
       "      <th>0</th>\n",
       "      <td>Spain</td>\n",
       "      <td>504.0</td>\n",
       "    </tr>\n",
       "    <tr>\n",
       "      <th>1</th>\n",
       "      <td>Italy</td>\n",
       "      <td>404.5</td>\n",
       "    </tr>\n",
       "    <tr>\n",
       "      <th>2</th>\n",
       "      <td>Germany</td>\n",
       "      <td>188.0</td>\n",
       "    </tr>\n",
       "    <tr>\n",
       "      <th>3</th>\n",
       "      <td>Brazil</td>\n",
       "      <td>179.0</td>\n",
       "    </tr>\n",
       "    <tr>\n",
       "      <th>4</th>\n",
       "      <td>Mexico</td>\n",
       "      <td>109.5</td>\n",
       "    </tr>\n",
       "  </tbody>\n",
       "</table>\n",
       "</div>"
      ],
      "text/plain": [
       "  Country/Region  Deaths\n",
       "0          Spain   504.0\n",
       "1          Italy   404.5\n",
       "2        Germany   188.0\n",
       "3         Brazil   179.0\n",
       "4         Mexico   109.5"
      ]
     },
     "execution_count": 137,
     "metadata": {},
     "output_type": "execute_result"
    }
   ],
   "source": [
    "p_2020=d_2020.groupby('Country/Region')['Deaths'].median().sort_values(ascending=False).reset_index()\n",
    "p_2020.head()\n"
   ]
  },
  {
   "cell_type": "code",
   "execution_count": 138,
   "id": "d593788c",
   "metadata": {},
   "outputs": [
    {
     "data": {
      "image/png": "[encoded data removed]",
      "text/plain": [
       "<Figure size 1300x600 with 1 Axes>"
      ]
     },
     "metadata": {},
     "output_type": "display_data"
    }
   ],
   "source": [
    "fig,ax=plt.subplots(figsize=(13,6))\n",
    "ax=sns.barplot(data=p_2020,x='Country/Region',y='Deaths')\n",
    "ax.set_xticklabels(p_2020['Country/Region'],rotation=90)\n",
    "ax.set_title('2020 Recovered country')\n",
    "plt.show()"
   ]
  },
  {
   "cell_type": "code",
   "execution_count": 141,
   "id": "aeb3d30f",
   "metadata": {},
   "outputs": [
    {
     "data": {
      "text/html": [
       "<div>\n",
       "<style scoped>\n",
       "    .dataframe tbody tr th:only-of-type {\n",
       "        vertical-align: middle;\n",
       "    }\n",
       "\n",
       "    .dataframe tbody tr th {\n",
       "        vertical-align: top;\n",
       "    }\n",
       "\n",
       "    .dataframe thead th {\n",
       "        text-align: right;\n",
       "    }\n",
       "</style>\n",
       "<table border=\"1\" class=\"dataframe\">\n",
       "  <thead>\n",
       "    <tr style=\"text-align: right;\">\n",
       "      <th></th>\n",
       "      <th>Country/Region</th>\n",
       "      <th>Recovered</th>\n",
       "    </tr>\n",
       "  </thead>\n",
       "  <tbody>\n",
       "    <tr>\n",
       "      <th>0</th>\n",
       "      <td>Germany</td>\n",
       "      <td>4500.0</td>\n",
       "    </tr>\n",
       "    <tr>\n",
       "      <th>1</th>\n",
       "      <td>Italy</td>\n",
       "      <td>2523.5</td>\n",
       "    </tr>\n",
       "    <tr>\n",
       "      <th>2</th>\n",
       "      <td>Spain</td>\n",
       "      <td>1519.0</td>\n",
       "    </tr>\n",
       "    <tr>\n",
       "      <th>3</th>\n",
       "      <td>Mexico</td>\n",
       "      <td>765.5</td>\n",
       "    </tr>\n",
       "    <tr>\n",
       "      <th>4</th>\n",
       "      <td>Mainland China</td>\n",
       "      <td>172.0</td>\n",
       "    </tr>\n",
       "  </tbody>\n",
       "</table>\n",
       "</div>"
      ],
      "text/plain": [
       "   Country/Region  Recovered\n",
       "0         Germany     4500.0\n",
       "1           Italy     2523.5\n",
       "2           Spain     1519.0\n",
       "3          Mexico      765.5\n",
       "4  Mainland China      172.0"
      ]
     },
     "execution_count": 141,
     "metadata": {},
     "output_type": "execute_result"
    }
   ],
   "source": [
    "p_2020=d_2020.groupby('Country/Region')['Recovered'].median().sort_values(ascending=False).reset_index()\n",
    "p_2020.head()\n"
   ]
  },
  {
   "cell_type": "code",
   "execution_count": 142,
   "id": "1b939ca5",
   "metadata": {},
   "outputs": [
    {
     "data": {
      "image/png": "[encoded data removed]",
      "text/plain": [
       "<Figure size 1300x600 with 1 Axes>"
      ]
     },
     "metadata": {},
     "output_type": "display_data"
    }
   ],
   "source": [
    "fig,ax=plt.subplots(figsize=(13,6))\n",
    "ax=sns.barplot(data=p_2020,x='Country/Region',y='Recovered')\n",
    "ax.set_xticklabels(p_2020['Country/Region'],rotation=90)\n",
    "ax.set_title('2020 Deaths country')\n",
    "\n",
    "plt.show()"
   ]
  },
  {
   "cell_type": "code",
   "execution_count": 135,
   "id": "f943a80d",
   "metadata": {},
   "outputs": [
    {
     "data": {
      "text/html": [
       "<div>\n",
       "<style scoped>\n",
       "    .dataframe tbody tr th:only-of-type {\n",
       "        vertical-align: middle;\n",
       "    }\n",
       "\n",
       "    .dataframe tbody tr th {\n",
       "        vertical-align: top;\n",
       "    }\n",
       "\n",
       "    .dataframe thead th {\n",
       "        text-align: right;\n",
       "    }\n",
       "</style>\n",
       "<table border=\"1\" class=\"dataframe\">\n",
       "  <thead>\n",
       "    <tr style=\"text-align: right;\">\n",
       "      <th></th>\n",
       "      <th>Country/Region</th>\n",
       "      <th>Deaths</th>\n",
       "    </tr>\n",
       "  </thead>\n",
       "  <tbody>\n",
       "    <tr>\n",
       "      <th>0</th>\n",
       "      <td>Brazil</td>\n",
       "      <td>6648.0</td>\n",
       "    </tr>\n",
       "    <tr>\n",
       "      <th>1</th>\n",
       "      <td>US</td>\n",
       "      <td>5187.0</td>\n",
       "    </tr>\n",
       "    <tr>\n",
       "      <th>2</th>\n",
       "      <td>Mexico</td>\n",
       "      <td>3901.0</td>\n",
       "    </tr>\n",
       "    <tr>\n",
       "      <th>3</th>\n",
       "      <td>Germany</td>\n",
       "      <td>2946.0</td>\n",
       "    </tr>\n",
       "    <tr>\n",
       "      <th>4</th>\n",
       "      <td>Italy</td>\n",
       "      <td>2917.0</td>\n",
       "    </tr>\n",
       "  </tbody>\n",
       "</table>\n",
       "</div>"
      ],
      "text/plain": [
       "  Country/Region  Deaths\n",
       "0         Brazil  6648.0\n",
       "1             US  5187.0\n",
       "2         Mexico  3901.0\n",
       "3        Germany  2946.0\n",
       "4          Italy  2917.0"
      ]
     },
     "execution_count": 135,
     "metadata": {},
     "output_type": "execute_result"
    }
   ],
   "source": [
    "p_2021=d_2021.groupby('Country/Region')['Deaths'].median().sort_values(ascending=False).reset_index()\n",
    "p_2021.head()"
   ]
  },
  {
   "cell_type": "code",
   "execution_count": 136,
   "id": "4d8f46f2",
   "metadata": {},
   "outputs": [
    {
     "data": {
      "image/png": "[encoded data removed]",
      "text/plain": [
       "<Figure size 1300x600 with 1 Axes>"
      ]
     },
     "metadata": {},
     "output_type": "display_data"
    }
   ],
   "source": [
    "fig,ax=plt.subplots(figsize=(13,6))\n",
    "ax=sns.barplot(data=p_2021,x='Country/Region',y='Deaths')\n",
    "ax.set_xticklabels(p_2021['Country/Region'],rotation=90)\n",
    "ax.set_title('2021 Deaths country')\n",
    "\n",
    "plt.show()"
   ]
  },
  {
   "cell_type": "code",
   "execution_count": 132,
   "id": "1ab65867",
   "metadata": {},
   "outputs": [
    {
     "data": {
      "text/html": [
       "<div>\n",
       "<style scoped>\n",
       "    .dataframe tbody tr th:only-of-type {\n",
       "        vertical-align: middle;\n",
       "    }\n",
       "\n",
       "    .dataframe tbody tr th {\n",
       "        vertical-align: top;\n",
       "    }\n",
       "\n",
       "    .dataframe thead th {\n",
       "        text-align: right;\n",
       "    }\n",
       "</style>\n",
       "<table border=\"1\" class=\"dataframe\">\n",
       "  <thead>\n",
       "    <tr style=\"text-align: right;\">\n",
       "      <th></th>\n",
       "      <th>Country/Region</th>\n",
       "      <th>Recovered</th>\n",
       "    </tr>\n",
       "  </thead>\n",
       "  <tbody>\n",
       "    <tr>\n",
       "      <th>0</th>\n",
       "      <td>Brazil</td>\n",
       "      <td>259083.0</td>\n",
       "    </tr>\n",
       "    <tr>\n",
       "      <th>1</th>\n",
       "      <td>India</td>\n",
       "      <td>159790.0</td>\n",
       "    </tr>\n",
       "    <tr>\n",
       "      <th>2</th>\n",
       "      <td>Germany</td>\n",
       "      <td>84860.0</td>\n",
       "    </tr>\n",
       "    <tr>\n",
       "      <th>3</th>\n",
       "      <td>Italy</td>\n",
       "      <td>68933.0</td>\n",
       "    </tr>\n",
       "    <tr>\n",
       "      <th>4</th>\n",
       "      <td>Ukraine</td>\n",
       "      <td>45527.0</td>\n",
       "    </tr>\n",
       "  </tbody>\n",
       "</table>\n",
       "</div>"
      ],
      "text/plain": [
       "  Country/Region  Recovered\n",
       "0         Brazil   259083.0\n",
       "1          India   159790.0\n",
       "2        Germany    84860.0\n",
       "3          Italy    68933.0\n",
       "4        Ukraine    45527.0"
      ]
     },
     "execution_count": 132,
     "metadata": {},
     "output_type": "execute_result"
    }
   ],
   "source": [
    "p_2021=d_2021.groupby('Country/Region')['Recovered'].median().sort_values(ascending=False).reset_index()\n",
    "p_2021.head()"
   ]
  },
  {
   "cell_type": "code",
   "execution_count": 134,
   "id": "e5bb9792",
   "metadata": {},
   "outputs": [
    {
     "data": {
      "image/png": "[encoded data removed]",
      "text/plain": [
       "<Figure size 1300x600 with 1 Axes>"
      ]
     },
     "metadata": {},
     "output_type": "display_data"
    }
   ],
   "source": [
    "fig,ax=plt.subplots(figsize=(13,6))\n",
    "ax=sns.barplot(data=p_2021,x='Country/Region',y='Recovered')\n",
    "ax.set_xticklabels(p_2021['Country/Region'],rotation=90)\n",
    "ax.set_title('2021 Recovered country')\n",
    "plt.show()"
   ]
  },
  {
   "cell_type": "markdown",
   "id": "6957986d",
   "metadata": {},
   "source": [
    "##  Top 10 Province/State\tConfirmed Cases"
   ]
  },
  {
   "cell_type": "code",
   "execution_count": 143,
   "id": "6e7bb3ac",
   "metadata": {},
   "outputs": [
    {
     "data": {
      "text/html": [
       "<div>\n",
       "<style scoped>\n",
       "    .dataframe tbody tr th:only-of-type {\n",
       "        vertical-align: middle;\n",
       "    }\n",
       "\n",
       "    .dataframe tbody tr th {\n",
       "        vertical-align: top;\n",
       "    }\n",
       "\n",
       "    .dataframe thead th {\n",
       "        text-align: right;\n",
       "    }\n",
       "</style>\n",
       "<table border=\"1\" class=\"dataframe\">\n",
       "  <thead>\n",
       "    <tr style=\"text-align: right;\">\n",
       "      <th></th>\n",
       "      <th>SNo</th>\n",
       "      <th>ObservationDate</th>\n",
       "      <th>Province/State</th>\n",
       "      <th>Country/Region</th>\n",
       "      <th>Last Update</th>\n",
       "      <th>Confirmed</th>\n",
       "      <th>Deaths</th>\n",
       "      <th>Recovered</th>\n",
       "    </tr>\n",
       "  </thead>\n",
       "  <tbody>\n",
       "    <tr>\n",
       "      <th>0</th>\n",
       "      <td>1</td>\n",
       "      <td>2020-01-22</td>\n",
       "      <td>Anhui</td>\n",
       "      <td>Mainland China</td>\n",
       "      <td>1/22/2020 17:00</td>\n",
       "      <td>1.0</td>\n",
       "      <td>0.0</td>\n",
       "      <td>0.0</td>\n",
       "    </tr>\n",
       "    <tr>\n",
       "      <th>1</th>\n",
       "      <td>2</td>\n",
       "      <td>2020-01-22</td>\n",
       "      <td>Beijing</td>\n",
       "      <td>Mainland China</td>\n",
       "      <td>1/22/2020 17:00</td>\n",
       "      <td>14.0</td>\n",
       "      <td>0.0</td>\n",
       "      <td>0.0</td>\n",
       "    </tr>\n",
       "    <tr>\n",
       "      <th>2</th>\n",
       "      <td>3</td>\n",
       "      <td>2020-01-22</td>\n",
       "      <td>Chongqing</td>\n",
       "      <td>Mainland China</td>\n",
       "      <td>1/22/2020 17:00</td>\n",
       "      <td>6.0</td>\n",
       "      <td>0.0</td>\n",
       "      <td>0.0</td>\n",
       "    </tr>\n",
       "    <tr>\n",
       "      <th>3</th>\n",
       "      <td>4</td>\n",
       "      <td>2020-01-22</td>\n",
       "      <td>Fujian</td>\n",
       "      <td>Mainland China</td>\n",
       "      <td>1/22/2020 17:00</td>\n",
       "      <td>1.0</td>\n",
       "      <td>0.0</td>\n",
       "      <td>0.0</td>\n",
       "    </tr>\n",
       "    <tr>\n",
       "      <th>4</th>\n",
       "      <td>5</td>\n",
       "      <td>2020-01-22</td>\n",
       "      <td>Gansu</td>\n",
       "      <td>Mainland China</td>\n",
       "      <td>1/22/2020 17:00</td>\n",
       "      <td>0.0</td>\n",
       "      <td>0.0</td>\n",
       "      <td>0.0</td>\n",
       "    </tr>\n",
       "  </tbody>\n",
       "</table>\n",
       "</div>"
      ],
      "text/plain": [
       "   SNo ObservationDate Province/State  Country/Region      Last Update   \n",
       "0    1      2020-01-22          Anhui  Mainland China  1/22/2020 17:00  \\\n",
       "1    2      2020-01-22        Beijing  Mainland China  1/22/2020 17:00   \n",
       "2    3      2020-01-22      Chongqing  Mainland China  1/22/2020 17:00   \n",
       "3    4      2020-01-22         Fujian  Mainland China  1/22/2020 17:00   \n",
       "4    5      2020-01-22          Gansu  Mainland China  1/22/2020 17:00   \n",
       "\n",
       "   Confirmed  Deaths  Recovered  \n",
       "0        1.0     0.0        0.0  \n",
       "1       14.0     0.0        0.0  \n",
       "2        6.0     0.0        0.0  \n",
       "3        1.0     0.0        0.0  \n",
       "4        0.0     0.0        0.0  "
      ]
     },
     "execution_count": 143,
     "metadata": {},
     "output_type": "execute_result"
    }
   ],
   "source": [
    "df.head()"
   ]
  },
  {
   "cell_type": "code",
   "execution_count": 148,
   "id": "cc99e97c",
   "metadata": {},
   "outputs": [
    {
     "data": {
      "text/plain": [
       "Province/State\n",
       "California               696898013.0\n",
       "Maharashtra              681186928.0\n",
       "England                  666227518.0\n",
       "Texas                    552039886.0\n",
       "Sao Paulo                521308945.0\n",
       "                            ...     \n",
       "American Samoa                   0.0\n",
       "Jervis Bay Territory             0.0\n",
       "Recovered                        0.0\n",
       "Montgomery County, TX            0.0\n",
       "External territories             0.0\n",
       "Name: Confirmed, Length: 736, dtype: float64"
      ]
     },
     "execution_count": 148,
     "metadata": {},
     "output_type": "execute_result"
    }
   ],
   "source": [
    "df.groupby('Province/State')['Confirmed'].sum().sort_values(ascending=False)"
   ]
  },
  {
   "cell_type": "code",
   "execution_count": null,
   "id": "56db46ed",
   "metadata": {},
   "outputs": [],
   "source": []
  }
 ],
 "metadata": {
  "kernelspec": {
   "display_name": "Python 3 (ipykernel)",
   "language": "python",
   "name": "python3"
  },
  "language_info": {
   "codemirror_mode": {
    "name": "ipython",
    "version": 3
   },
   "file_extension": ".py",
   "mimetype": "text/x-python",
   "name": "python",
   "nbconvert_exporter": "python",
   "pygments_lexer": "ipython3",
   "version": "3.11.3"
  }
 },
 "nbformat": 4,
 "nbformat_minor": 5
}
